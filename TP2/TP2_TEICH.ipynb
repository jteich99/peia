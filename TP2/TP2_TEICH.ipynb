{
 "cells": [
  {
   "cell_type": "markdown",
   "id": "24df9d1d",
   "metadata": {},
   "source": [
    "# Segundo Examen Partial\n",
    "> **TEICH, Juan Ignacio**"
   ]
  },
  {
   "cell_type": "markdown",
   "id": "94f09f40",
   "metadata": {},
   "source": [
    "## Ejercicio 1\n",
    "Una variable aleatoria discreta X puede tomar los valores 0, 1, 2 y 3. Las probabilidades para cada valor posible están dadas por la siguiente tabla:\n",
    "\n",
    "| X     | 0                     | 1                   | 2                    | 3                       |\n",
    "|:-----:|:---------------------:|:-------------------:|:--------------------:|:-----------------------:|\n",
    "| $p$   | $\\frac{\\theta}{3}$    | $\\frac{2\\theta}{3}$ | $\\frac{1-\\theta}{3}$ | $\\frac{2(1-\\theta)}{3}$ |\n",
    "\n",
    "Si experiemntalmente se obtienen los siguientes datos:\n",
    "$$\n",
    "(2, 1, 3, 2, 1, 0, 1, 3, 1, 2)\n",
    "$$\n",
    "determine el valor de $\\theta$ usando el método de máxima verosimilitud."
   ]
  },
  {
   "cell_type": "markdown",
   "id": "edb27011",
   "metadata": {},
   "source": [
    "### Resolución\n",
    "Planteamos la función demáxima verosimilitud para $\\theta$:\n",
    "$$\n",
    "L(\\theta) = \\Pi_i f_{X_i}(x_i,\\theta)=\\left(\\frac{\\theta}{3}\\right) \\left( \\frac{2\\theta}{3}\\right)^4 \\left(\\frac{1-\\theta}{3}\\right)^3 \\left(\\frac{2(1-\\theta)}{3}\\right)^2\n",
    "$$\n",
    "Si aplicamos el logarítmo natural a ambos lados de la ecuación:\n",
    "$$\n",
    "\\ln[L(\\theta)] = \\ln\\left(\\frac{\\theta}{3}\\right) + 4 \\ln\\left( \\frac{2\\theta}{3}\\right) + 3 \\ln\\left(\\frac{1-\\theta}{3}\\right) + 2\\ln\\left[\\frac{2(1-\\theta)}{3}\\right]\n",
    "$$\n",
    "$$\n",
    "\\ln[L(\\theta)] = \\ln(\\theta) - \\ln(3) + 4[\\ln2) +\\ln(\\theta) - \\ln(3)] + 3[\\ln(1-\\theta) - \\ln(3)] + 2[\\ln(2) + \\ln(1-\\theta) - \\ln(3)]\n",
    "$$\n",
    "Derivamos respecto the $\\theta$ e igualamos a 0:\n",
    "$$\n",
    "\\frac{d \\ln[L(\\theta)]}{d\\theta} = \\frac{1}{\\theta} + \\frac{4}{\\theta} + 3 \\frac{-1}{1-\\theta} + 2 \\frac{-1}{1-\\theta}\n",
    "$$\n",
    "$$\n",
    "\\Longrightarrow  {\\color{orange}\\theta = \\frac{1}{2}}\n",
    "$$"
   ]
  },
  {
   "cell_type": "markdown",
   "id": "e9b0afdb",
   "metadata": {},
   "source": [
    "## Ejercicio 2\n",
    "Se pretende estimar los valores de producción $Y$ (en miles de toneladas) de cierto material, en función del tiempo transcurrido $X$ (en meses) usando los valores de la tabla:\n",
    "\n",
    "| X | Y |\n",
    "|:-:|:-:|\n",
    "| 4 | 2 |\n",
    "| 7 | 32|\n",
    "| 11|149|\n",
    "| 15|278|\n",
    "| 24|441|\n",
    "\n",
    "Se plantea un modelo de la forma $Y=a+b\\,x+c\\,x^2$. Entontrar los estimadores de mínimos cuadrados para $a$, $b$ y $c$ en este modelo."
   ]
  },
  {
   "cell_type": "markdown",
   "id": "5ba7000c",
   "metadata": {},
   "source": [
    "### Resolución\n",
    "Planteamos la función de verosimilitud para cuadrados mínimos:\n",
    "$$\n",
    "L(a,b,c)=\\sum_i (y_i-\\hat{y_i})^2 = \\sum_i (y_i - a - b\\,x_i - c\\,x_i^2)^2\n",
    "$$\n",
    "Tomemos la derivada respecto de $a$, $b$ y $c$, e igualemos a 0:\n",
    "$$\n",
    "\\frac{d\\,L(a,b,c)}{da} = 2 \\left[ \\sum_i (y_i -a -b\\,x_i -c\\,x_i^2)(-1) \\right] = -2 \\sum_i y_i + 2\\,i\\,a + 2\\,b\\,\\sum_i x_i + 2\\,c\\,\\sum_i x_i^2 = 0\n",
    "$$\n",
    "$$\n",
    "\\frac{d\\,L(a,b,c)}{db} = 2 \\left[ \\sum_i (y_i -a -b\\,x_i -c\\,x_i^2)(-x_i) \\right] = -2 \\sum_i y_i x_i + 2\\,a\\,\\sum_i x_i + 2\\,b\\,\\sum_i x_i^2 + 2\\,c\\,\\sum_i x_i^3 = 0\n",
    "$$\n",
    "$$\n",
    "\\frac{d\\,L(a,b,c)}{dc} = 2 \\left[ \\sum_i (y_i -a -b\\,x_i -c\\,x_i^2)(-x_i^2) \\right] = -2 \\sum_i y_i x_i^2 + 2\\,a\\,\\sum_i x_i^2 + 2\\,b\\,\\sum_i x_i^3 + 2\\,c\\,\\sum_i x_i^4 = 0\n",
    "$$\n",
    "Tenemos entonces un problema lineal de 3 ecuaciones y 3 incógnitas, el cual podemos escribir de forma matricial:\n",
    "$$\n",
    "\\begin{bmatrix}\n",
    "    i               & \\sum_i x_i    & \\sum_i x_i^2 \\\\\n",
    "    \\sum_i x_i      & \\sum_i x_i^2  & \\sum_i x_i^3 \\\\\n",
    "    \\sum_i x_i^2    & \\sum_i x_i^3  & \\sum_i x_i^4\n",
    "\\end{bmatrix} \\cdot\n",
    "\\begin{bmatrix}\n",
    "    a \\\\ b \\\\ c\n",
    "\\end{bmatrix} = \n",
    "\\begin{bmatrix}\n",
    "    \\sum_i y_i \\\\ \n",
    "    \\sum_i y_i x_i \\\\ \n",
    "    \\sum_i y_i x_i^2 \n",
    "\\end{bmatrix}\n",
    "$$\n",
    "Lo resolvemos a continuación con `numpy`:"
   ]
  },
  {
   "cell_type": "code",
   "execution_count": 23,
   "id": "468f1e1e",
   "metadata": {},
   "outputs": [
    {
     "name": "stdout",
     "output_type": "stream",
     "text": [
      "a = -126.56976077057467\n",
      "b = 27.825995159059897\n",
      "c = -0.16467771109400967\n"
     ]
    }
   ],
   "source": [
    "import numpy as np\n",
    "\n",
    "x = [4,7,11,15,24]\n",
    "y = [2 ,32, 149, 278, 441]\n",
    "\n",
    "A = np.array([\n",
    "    [sum([1 for xi in x]),      sum([xi for xi in x]),      sum([xi**2 for xi in x])],\n",
    "    [sum([xi for xi in x]),     sum([xi**2 for xi in x]),   sum([xi**3 for xi in x])],\n",
    "    [sum([xi**2 for xi in x]),  sum([xi**3 for xi in x]),   sum([xi**4 for xi in x])],\n",
    "])\n",
    "b = np.array([\n",
    "    sum([yi for yi in y]), sum([yi*xi for xi, yi in zip(x,y)]), sum([yi*(xi**2) for xi, yi in zip(x,y)])\n",
    "])\n",
    "abc = np.linalg.inv(A) @ b\n",
    "\n",
    "print(f\"a = {abc[0]}\")\n",
    "print(f\"b = {abc[1]}\")\n",
    "print(f\"c = {abc[2]}\")"
   ]
  },
  {
   "cell_type": "markdown",
   "id": "35bd8390",
   "metadata": {},
   "source": [
    "Observamos que obtenemos:\n",
    "$$\n",
    "\\color{orange}\n",
    "a = -126.57 \\\\\n",
    "b = 27.83 \\\\\n",
    "c = -0.16\n",
    "$$\n",
    "Grafiquemos los datos contra la predicción:"
   ]
  },
  {
   "cell_type": "code",
   "execution_count": 24,
   "id": "9de188bc",
   "metadata": {},
   "outputs": [
    {
     "data": {
      "image/png": "[encoded data removed]",
      "text/plain": [
       "<Figure size 640x480 with 1 Axes>"
      ]
     },
     "metadata": {},
     "output_type": "display_data"
    }
   ],
   "source": [
    "from matplotlib import pyplot as plt\n",
    "\n",
    "plt.scatter(x,y,color='red')\n",
    "\n",
    "xTest = np.arange(2,26,0.5)\n",
    "plt.plot(xTest, [abc[0]+abc[1]*xi+abc[2]*xi**2 for xi in xTest], color='blue')\n",
    "\n",
    "plt.xlabel(\"X\")\n",
    "plt.ylabel(\"Y\")\n",
    "\n",
    "plt.show()"
   ]
  },
  {
   "cell_type": "markdown",
   "id": "79a089eb",
   "metadata": {},
   "source": [
    "## Ejercicio 3\n",
    "Don Francisco tiene 5 clientes a los que les ha vendido mercancı́as a crédito y, de ellos, 2 están en mora con el pago prometido. Matı́as, teniendo en cuenta la información disponible, considera que puede modelar el porcentaje $p$ de morosidad según una distribución $\\mathcal{B}(2, 5)$. Para determinar los parámetros $\\alpha$ y $\\beta$, decide usar inferencia bayesiana. Con esto, pretende explicarle a Don Francisco, cómo será el comportamiento de pago de sus clientes a crédito. Determinen la distribución a posteriori del parámetro $p$ de porcentaje de morosidad ($\\alpha$ y $\\beta$). Determinar su media y su varianza."
   ]
  },
  {
   "cell_type": "markdown",
   "id": "a2d08a01",
   "metadata": {},
   "source": [
    "### Resolución\n",
    "Tenemos que nuestra distribución a priori es una distribución Beta, la cual generalizada es de la forma:\n",
    "$$\n",
    "\\mathcal{B}: f_X(x) = \\frac{x^{\\alpha-1} (1-x)^{\\beta-1}}{\\mathcal{B}(\\alpha, \\beta)}\n",
    "$$\n",
    "Entonces nuestra distribución *a priori* es:\n",
    "$$\n",
    "\\pi(p) = \\frac{p (1-p)^{4}}{\\mathcal{B}(2, 5)}\n",
    "$$\n",
    "La *verosimilitud* a partir de los datos experimentales tiene forma binomial:\n",
    "$$\n",
    "L(p) = p^2 (1-p)^5\n",
    "$$\n",
    "Luego la distribución *a posteriori* viene dada por:\n",
    "$$\n",
    "f_p(p) \\propto \\pi(p) \\, L(p) \\propto [p (1-p)^{4}] [p^2 (1-p)^5] = p^3 (1-p)^7\n",
    "$$\n",
    "Recordando la forma de la distribución Beta obtenemos:\n",
    "$$\n",
    "\\color{orange}\n",
    "\\alpha = 4\\\\\n",
    "\\beta = 8\n",
    "$$\n",
    "\n",
    "La media de la distribución Beta viene dada por:\n",
    "$$\n",
    "\\mu_\\mathcal{B} = \\frac{\\alpha}{\\alpha \\beta} \\Longrightarrow {\\color{orange} \\mu_p = 0.125}\n",
    "$$\n",
    "Y la varianza:\n",
    "$$\n",
    "{\\sigma^2}_\\mathcal{B} = \\frac{\\alpha\\beta}{(\\alpha + \\beta)^2 (\\alpha + \\beta + 1)} \\Longrightarrow {\\color{orange} {\\sigma^2}_p = 0.01709}\n",
    "$$"
   ]
  }
 ],
 "metadata": {
  "kernelspec": {
   "display_name": "project",
   "language": "python",
   "name": "project"
  },
  "language_info": {
   "codemirror_mode": {
    "name": "ipython",
    "version": 3
   },
   "file_extension": ".py",
   "mimetype": "text/x-python",
   "name": "python",
   "nbconvert_exporter": "python",
   "pygments_lexer": "ipython3",
   "version": "3.11.13"
  }
 },
 "nbformat": 4,
 "nbformat_minor": 5
}
